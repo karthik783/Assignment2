{
  "nbformat": 4,
  "nbformat_minor": 0,
  "metadata": {
    "colab": {
      "name": "Untitled1.ipynb",
      "provenance": [],
      "collapsed_sections": [],
      "authorship_tag": "ABX9TyNdO7kLVcQvkao5qg1IaGI/",
      "include_colab_link": true
    },
    "kernelspec": {
      "name": "python3",
      "display_name": "Python 3"
    }
  },
  "cells": [
    {
      "cell_type": "markdown",
      "metadata": {
        "id": "view-in-github",
        "colab_type": "text"
      },
      "source": [
        "<a href=\"https://colab.research.google.com/github/karthik783/Assignment2/blob/master/Untitled1.ipynb\" target=\"_parent\"><img src=\"https://colab.research.google.com/assets/colab-badge.svg\" alt=\"Open In Colab\"/></a>"
      ]
    },
    {
      "cell_type": "code",
      "metadata": {
        "id": "5pYhkQDuatG7",
        "colab_type": "code",
        "colab": {
          "base_uri": "https://localhost:8080/",
          "height": 50
        },
        "outputId": "6a9585f5-be00-4c5c-e01b-0ccbf3cf040a"
      },
      "source": [
        "#eligible for vote or not\n",
        "age=int(input(\"enter your age\"))\n",
        "if age>=18:\n",
        "  print(\"your are eligible to vote\")\n",
        "else:\n",
        "  print(\"your are not eligible to vote\")  "
      ],
      "execution_count": null,
      "outputs": [
        {
          "output_type": "stream",
          "text": [
            "enter your age18\n",
            "your are eligible to vote\n"
          ],
          "name": "stdout"
        }
      ]
    },
    {
      "cell_type": "code",
      "metadata": {
        "id": "nmEwny8GbcS1",
        "colab_type": "code",
        "colab": {
          "base_uri": "https://localhost:8080/",
          "height": 50
        },
        "outputId": "e5a7f828-fa5f-4bf2-d41f-5d9695647d41"
      },
      "source": [
        "#check the number is even or odd\n",
        "num=int(input(\"enter any value\"))\n",
        "if(num%2)==0:\n",
        "  print(num ,\"is an even number\")\n",
        "else:\n",
        "  print(num,\"is an odd number\")  "
      ],
      "execution_count": null,
      "outputs": [
        {
          "output_type": "stream",
          "text": [
            "enter any value6\n",
            "6 is an even number\n"
          ],
          "name": "stdout"
        }
      ]
    },
    {
      "cell_type": "code",
      "metadata": {
        "id": "ZcWRAqMTdZPq",
        "colab_type": "code",
        "colab": {
          "base_uri": "https://localhost:8080/",
          "height": 67
        },
        "outputId": "9f5d700c-197c-4f7d-ecf4-8a401df9e118"
      },
      "source": [
        "#check the number is prime or not\n",
        "num=int(input(\"enter any value\"))\n",
        "if num>1:\n",
        "  for i in range(2,num):\n",
        "    if (num%i)==0:\n",
        "       print(num ,\"is not a prime number\")\n",
        "       print(i,\"times\",num//i,\"is\",num)\n",
        "       break\n",
        "  else:\n",
        "        print(num,\"is a prime number\")  \n",
        "else:\n",
        "   print(num,\"is not a prime number\")"
      ],
      "execution_count": null,
      "outputs": [
        {
          "output_type": "stream",
          "text": [
            "enter any value22\n",
            "22 is not a prime number\n",
            "2 times 11 is 22\n"
          ],
          "name": "stdout"
        }
      ]
    },
    {
      "cell_type": "code",
      "metadata": {
        "id": "kQiRLVdnp8c1",
        "colab_type": "code",
        "colab": {
          "base_uri": "https://localhost:8080/",
          "height": 50
        },
        "outputId": "97fbd75c-adeb-4372-cd54-55dd2af5afa3"
      },
      "source": [
        "num = float(input(\"Enter a number: \"))\n",
        "if num > 0:\n",
        "   print(\"Positive number\")\n",
        "else:\n",
        "   print(\"not a positive number\")"
      ],
      "execution_count": null,
      "outputs": [
        {
          "output_type": "stream",
          "text": [
            "Enter a number: 5\n",
            "Positive number\n"
          ],
          "name": "stdout"
        }
      ]
    },
    {
      "cell_type": "code",
      "metadata": {
        "id": "F-hT6XuJpoB4",
        "colab_type": "code",
        "colab": {
          "base_uri": "https://localhost:8080/",
          "height": 84
        },
        "outputId": "5ce52956-a9a1-43a7-99ec-9da20b581f7a"
      },
      "source": [
        "import math\n",
        "\n",
        "a = float(input(\"value of  a: \"))\n",
        "b = float(input(\"value of  b: \"))\n",
        "c = float(input(\"value of  c: \"))\n",
        "\n",
        "discr = b**2 - 4 * a * c\n",
        "\n",
        "if discr >= 0:\n",
        "    x1=(-b+math.sqrt(discr))/2*a\n",
        "    x2=(-b-math.sqrt(discr))/2*a\n",
        "else:\n",
        "    x1= complex((-b/(2*a)),math.sqrt(-discr)/(2*a))\n",
        "    x2= complex((-b/(2*a)),-math.sqrt(-discr)/(2*a))\n",
        "\n",
        "if discr > 0:\n",
        "    print(\"roots are distinct real roots: {} and {}\".format(x1,x2))\n",
        "elif discr == 0:\n",
        "    print(\"roots are real and equal root: {}\", x1)\n",
        "else:\n",
        "    print(\"roots are imaginary roots: {}  and {}\".format(x1,x2))"
      ],
      "execution_count": 27,
      "outputs": [
        {
          "output_type": "stream",
          "text": [
            "value of  a: 2\n",
            "value of  b: 5\n",
            "value of  c: 8\n",
            "roots are imaginary roots: (-1.25+1.5612494995995996j)  and (-1.25-1.5612494995995996j)\n"
          ],
          "name": "stdout"
        }
      ]
    },
    {
      "cell_type": "code",
      "metadata": {
        "id": "LEeQEWIZr4qd",
        "colab_type": "code",
        "colab": {
          "base_uri": "https://localhost:8080/",
          "height": 50
        },
        "outputId": "f82a0e1d-e65c-473d-e2bc-cabcc2cfb925"
      },
      "source": [
        "#check the number is positive negative or zero\n",
        "num=int(input(\"enter any value\"))\n",
        "if num>0:\n",
        "  print(num,\"positive number\")\n",
        "elif num==0:\n",
        "    print(num,\"number is zero\")\n",
        "else:\n",
        "    print(num,\"negative number\")    "
      ],
      "execution_count": 18,
      "outputs": [
        {
          "output_type": "stream",
          "text": [
            "enter any value5\n",
            "5 positive number\n"
          ],
          "name": "stdout"
        }
      ]
    },
    {
      "cell_type": "code",
      "metadata": {
        "id": "7ot2Ipd-x-3l",
        "colab_type": "code",
        "colab": {
          "base_uri": "https://localhost:8080/",
          "height": 50
        },
        "outputId": "c90dace2-4593-49bc-e40b-e7261fb4854b"
      },
      "source": [
        "#accept a number from 1 to 5 and print them in words\n",
        "n=int(input(\"enter any digit\"))\n",
        "if n==1:\n",
        "  print('one')\n",
        "elif n==2:\n",
        "  print('two') \n",
        "elif n==3:\n",
        "  print('three')\n",
        "elif n==4:\n",
        "  print('four')\n",
        "elif n==5:\n",
        "  print('five')\n",
        "else:\n",
        "  print(\"pls enter a digit form 1 to 5\")"
      ],
      "execution_count": 20,
      "outputs": [
        {
          "output_type": "stream",
          "text": [
            "enter any digit3\n",
            "three\n"
          ],
          "name": "stdout"
        }
      ]
    },
    {
      "cell_type": "code",
      "metadata": {
        "id": "L4lTLUWOva92",
        "colab_type": "code",
        "colab": {
          "base_uri": "https://localhost:8080/",
          "height": 50
        },
        "outputId": "e3964f92-59e7-4e19-a65e-a824ffb9dbdf"
      },
      "source": [
        "# Python Program to check character is Vowel or Consonant\n",
        "ch = input(\" Enter  Character : \")\n",
        "\n",
        "if(ch == 'a' or ch == 'e' or ch == 'i' or ch == 'o' or ch == 'u' or ch == 'A'\n",
        "       or ch == 'E' or ch == 'I' or ch == 'O' or ch == 'U'):\n",
        "    print(\"The Given Character \", ch, \"is a Vowel\")\n",
        "else:\n",
        "    print(\"The Given Character \", ch, \"is a Consonant\")\n"
      ],
      "execution_count": 24,
      "outputs": [
        {
          "output_type": "stream",
          "text": [
            " Enter  Character : a\n",
            "The Given Character  a is a Vowel\n"
          ],
          "name": "stdout"
        }
      ]
    }
  ]
}